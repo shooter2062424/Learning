{
  "nbformat": 4,
  "nbformat_minor": 0,
  "metadata": {
    "colab": {
      "provenance": [],
      "gpuType": "T4",
      "toc_visible": true,
      "authorship_tag": "ABX9TyPD+OqUTljqmxL5l2UJw/Pc",
      "include_colab_link": true
    },
    "kernelspec": {
      "name": "python3",
      "display_name": "Python 3"
    },
    "language_info": {
      "name": "python"
    },
    "accelerator": "GPU"
  },
  "cells": [
    {
      "cell_type": "markdown",
      "metadata": {
        "id": "view-in-github",
        "colab_type": "text"
      },
      "source": [
        "<a href=\"https://colab.research.google.com/github/shooter2062424/Learning/blob/main/AI/pytorch_intro.ipynb\" target=\"_parent\"><img src=\"https://colab.research.google.com/assets/colab-badge.svg\" alt=\"Open In Colab\"/></a>"
      ]
    },
    {
      "cell_type": "code",
      "execution_count": null,
      "metadata": {
        "id": "vb3sq5duLk9F"
      },
      "outputs": [],
      "source": [
        "import torch\n",
        "import numpy as np"
      ]
    },
    {
      "cell_type": "code",
      "source": [
        "# list\n",
        "mylist = [[1,2],[3,4]]\n",
        "\n",
        "# numpy\n",
        "np1 = np.random.rand(3,4)\n",
        "\n",
        "# tensors\n",
        "tensor_2d = torch.randn(3,4)\n",
        "tensor_3d = torch.randn(2,3,4)\n",
        "tensor_np = torch.tensor(np1)\n",
        "tensor_np"
      ],
      "metadata": {
        "colab": {
          "base_uri": "https://localhost:8080/"
        },
        "id": "KP_6T8ErMG16",
        "outputId": "4f3a398e-186a-4bd5-d8c9-da0a703e4e56"
      },
      "execution_count": null,
      "outputs": [
        {
          "output_type": "execute_result",
          "data": {
            "text/plain": [
              "tensor([[0.4339, 0.4970, 0.1780, 0.1841],\n",
              "        [0.4025, 0.3030, 0.9805, 0.2211],\n",
              "        [0.3291, 0.7450, 0.3670, 0.7141]], dtype=torch.float64)"
            ]
          },
          "metadata": {},
          "execution_count": 8
        }
      ]
    },
    {
      "cell_type": "code",
      "source": [],
      "metadata": {
        "id": "dSaeXI1DMYu9"
      },
      "execution_count": null,
      "outputs": []
    }
  ]
}